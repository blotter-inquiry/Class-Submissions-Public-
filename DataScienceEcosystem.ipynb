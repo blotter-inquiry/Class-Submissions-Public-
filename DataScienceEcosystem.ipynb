{
 "cells": [
  {
   "cell_type": "markdown",
   "id": "2d1cf7be-2c73-4362-8057-2f52385a49f9",
   "metadata": {},
   "source": [
    "# Data Science Tools and Ecosystem"
   ]
  },
  {
   "cell_type": "markdown",
   "id": "c74c9d81-b349-42f6-b9e1-6111a72ea6c3",
   "metadata": {},
   "source": [
    "In this notebook, tools and the ecosystem for Data Science are summarized."
   ]
  },
  {
   "cell_type": "markdown",
   "id": "9ac2487b-371a-4108-8729-fa86a4314b9b",
   "metadata": {},
   "source": [
    "**Objectives:**\n",
    "\n",
    "- List popular languages for Data Science\n",
    "- List commonly used libraries for Data Science\n",
    "- Demonstrate how to evaluate arithmetic expressions in Python"
   ]
  },
  {
   "cell_type": "markdown",
   "id": "5960e15f-0a10-48ec-ac58-296d6cb7c2f4",
   "metadata": {},
   "source": [
    "Some popular languages that Data Scientists use are:\n",
    "\n",
    "1. Python\n",
    "2. SQL (Structured Query Language)\n",
    "3. R"
   ]
  },
  {
   "cell_type": "markdown",
   "id": "8934c4bf-9c35-470d-a77b-099c4fa03d3a",
   "metadata": {},
   "source": [
    "Some of the commonly used libraries used by Data Scientists include:\n",
    "1. Pandas\n",
    "2. NumPy\n",
    "3. Plotly"
   ]
  },
  {
   "cell_type": "markdown",
   "id": "ad8c17fc-6ebb-4a8c-8452-1180af643d85",
   "metadata": {},
   "source": [
    "|Data Science Tools |\n",
    "|-----|\n",
    "|Jupyter Notebook|\n",
    "|RStudio|\n",
    "|Anaconda|"
   ]
  },
  {
   "cell_type": "markdown",
   "id": "33f1e642-c458-4614-bb2e-5ae113aad8b2",
   "metadata": {},
   "source": [
    "### Below are a few examples of evaluating arithmetic expressions in Python"
   ]
  },
  {
   "cell_type": "code",
   "execution_count": 2,
   "id": "be762285-7add-4282-a5c8-9b78c4b76e60",
   "metadata": {
    "tags": []
   },
   "outputs": [
    {
     "data": {
      "text/plain": [
       "17"
      ]
     },
     "execution_count": 2,
     "metadata": {},
     "output_type": "execute_result"
    }
   ],
   "source": [
    "# This a simple arithmetic expression to mutiply then add integers\n",
    "\n",
    "(3*4)+5"
   ]
  },
  {
   "cell_type": "code",
   "execution_count": 8,
   "id": "9c67ce85-b5b4-4f01-a51d-879f26c6a084",
   "metadata": {
    "tags": []
   },
   "outputs": [
    {
     "name": "stdout",
     "output_type": "stream",
     "text": [
      "200 minutes = 3.3333333333333335 hours\n"
     ]
    }
   ],
   "source": [
    "# This will convert 200 minutes to hours by diving by 60\n",
    "\n",
    "minutes = 200\n",
    "hours = minutes/60\n",
    "print(minutes, \"minutes =\", hours, \"hours\")"
   ]
  },
  {
   "cell_type": "markdown",
   "id": "123ad759-cc6f-41e6-ada8-82d0e16f6dc9",
   "metadata": {},
   "source": [
    "## Author\n",
    "\n",
    "LT"
   ]
  }
 ],
 "metadata": {
  "kernelspec": {
   "display_name": "Python",
   "language": "python",
   "name": "conda-env-python-py"
  },
  "language_info": {
   "codemirror_mode": {
    "name": "ipython",
    "version": 3
   },
   "file_extension": ".py",
   "mimetype": "text/x-python",
   "name": "python",
   "nbconvert_exporter": "python",
   "pygments_lexer": "ipython3",
   "version": "3.7.12"
  }
 },
 "nbformat": 4,
 "nbformat_minor": 5
}
